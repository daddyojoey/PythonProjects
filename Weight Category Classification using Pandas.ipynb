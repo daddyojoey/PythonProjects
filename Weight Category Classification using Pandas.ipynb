{
 "cells": [
  {
   "cell_type": "code",
   "execution_count": 2,
   "id": "835b733f",
   "metadata": {},
   "outputs": [],
   "source": [
    "import pandas as pd"
   ]
  },
  {
   "cell_type": "code",
   "execution_count": 28,
   "id": "abfabcf2",
   "metadata": {},
   "outputs": [],
   "source": [
    "df = pd.read_csv('https://people.sc.fsu.edu/~jburkardt/data/csv/hw_200.csv')\n",
    "pd.options.display.max_rows = None"
   ]
  },
  {
   "cell_type": "code",
   "execution_count": 29,
   "id": "65028361",
   "metadata": {},
   "outputs": [
    {
     "name": "stdout",
     "output_type": "stream",
     "text": [
      "   Index   Height(Inches)\"   \"Weight(Pounds)\"\n",
      "0      1             65.78             112.99\n",
      "1      2             71.52             136.49\n",
      "2      3             69.40             153.03\n",
      "3      4             68.22             142.34\n",
      "4      5             67.79             144.30\n"
     ]
    }
   ],
   "source": [
    "print(df.head())"
   ]
  },
  {
   "cell_type": "code",
   "execution_count": 30,
   "id": "44e91549",
   "metadata": {},
   "outputs": [
    {
     "name": "stdout",
     "output_type": "stream",
     "text": [
      "   Index  Height(Inches)  Weight(Pounds)\n",
      "0      1           65.78          112.99\n",
      "1      2           71.52          136.49\n",
      "2      3           69.40          153.03\n",
      "3      4           68.22          142.34\n",
      "4      5           67.79          144.30\n"
     ]
    }
   ],
   "source": [
    "import pandas as pd\n",
    "\n",
    "data = {\n",
    "    'Index': [1, 2, 3, 4, 5],\n",
    "    'Height(Inches)': [65.78, 71.52, 69.40, 68.22, 67.79],\n",
    "    'Weight(Pounds)': [112.99, 136.49, 153.03, 142.34, 144.30]\n",
    "}\n",
    "\n",
    "df = pd.DataFrame(data)\n",
    "\n",
    "print(df.head())"
   ]
  },
  {
   "cell_type": "code",
   "execution_count": 31,
   "id": "b0d303e4",
   "metadata": {},
   "outputs": [],
   "source": [
    "def weight_category(weight):\n",
    "    if weight <= 125:\n",
    "        return 'Underweight'\n",
    "    elif weight <= 170:\n",
    "        return 'Normal'\n",
    "    elif weight <= 200:\n",
    "        return 'Overweight'\n",
    "    else:\n",
    "        return 'Obese'"
   ]
  },
  {
   "cell_type": "code",
   "execution_count": 32,
   "id": "c188f6e4",
   "metadata": {},
   "outputs": [],
   "source": [
    "df['Weight Category'] = df['Height(Inches)']*0.0254\n",
    "df['Weight Category'] = df.apply(lambda x: weight_category(x['Weight(Pounds)']), axis=1)"
   ]
  },
  {
   "cell_type": "code",
   "execution_count": 33,
   "id": "78687a31",
   "metadata": {},
   "outputs": [],
   "source": [
    "# Set the display option to show all rows\n",
    "pd.options.display.max_rows = None"
   ]
  },
  {
   "cell_type": "code",
   "execution_count": 34,
   "id": "18ab7b4d",
   "metadata": {},
   "outputs": [
    {
     "name": "stdout",
     "output_type": "stream",
     "text": [
      "   Index  Height(Inches)  Weight(Pounds) Weight Category\n",
      "0      1           65.78          112.99     Underweight\n",
      "1      2           71.52          136.49          Normal\n",
      "2      3           69.40          153.03          Normal\n",
      "3      4           68.22          142.34          Normal\n",
      "4      5           67.79          144.30          Normal\n"
     ]
    }
   ],
   "source": [
    "# Display the DataFrame\n",
    "print(df)"
   ]
  },
  {
   "cell_type": "code",
   "execution_count": null,
   "id": "4e6b1741",
   "metadata": {},
   "outputs": [],
   "source": []
  }
 ],
 "metadata": {
  "kernelspec": {
   "display_name": "Python 3 (ipykernel)",
   "language": "python",
   "name": "python3"
  },
  "language_info": {
   "codemirror_mode": {
    "name": "ipython",
    "version": 3
   },
   "file_extension": ".py",
   "mimetype": "text/x-python",
   "name": "python",
   "nbconvert_exporter": "python",
   "pygments_lexer": "ipython3",
   "version": "3.10.10"
  }
 },
 "nbformat": 4,
 "nbformat_minor": 5
}
