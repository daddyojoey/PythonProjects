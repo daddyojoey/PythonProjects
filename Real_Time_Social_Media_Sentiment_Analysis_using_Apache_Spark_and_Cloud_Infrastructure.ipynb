{
  "nbformat": 4,
  "nbformat_minor": 0,
  "metadata": {
    "colab": {
      "provenance": [],
      "authorship_tag": "ABX9TyNQorXH4IZMEbUHtpjk4ciH",
      "include_colab_link": true
    },
    "kernelspec": {
      "name": "python3",
      "display_name": "Python 3"
    },
    "language_info": {
      "name": "python"
    }
  },
  "cells": [
    {
      "cell_type": "markdown",
      "metadata": {
        "id": "view-in-github",
        "colab_type": "text"
      },
      "source": [
        "<a href=\"https://colab.research.google.com/github/daddyojoey/PythonProjects/blob/main/Real_Time_Social_Media_Sentiment_Analysis_using_Apache_Spark_and_Cloud_Infrastructure.ipynb\" target=\"_parent\"><img src=\"https://colab.research.google.com/assets/colab-badge.svg\" alt=\"Open In Colab\"/></a>"
      ]
    },
    {
      "cell_type": "code",
      "execution_count": 1,
      "metadata": {
        "id": "wgt2L9BFL3yY"
      },
      "outputs": [],
      "source": [
        "# Install PySpark and dependencies\n",
        "!pip install -q pyspark"
      ]
    },
    {
      "cell_type": "code",
      "source": [
        "from pyspark.sql import SparkSession\n",
        "from pyspark.sql.functions import col, when\n"
      ],
      "metadata": {
        "id": "BcGIJwxgdaGD"
      },
      "execution_count": 2,
      "outputs": []
    },
    {
      "cell_type": "code",
      "source": [
        "# Start Spark Session\n",
        "spark = SparkSession.builder.appName(\"Sentiment140\").getOrCreate()\n"
      ],
      "metadata": {
        "id": "ghGWqqNwgw2d"
      },
      "execution_count": 3,
      "outputs": []
    },
    {
      "cell_type": "code",
      "source": [
        "# Define column names\n",
        "columns = [\"sentiment\", \"id\", \"date\", \"query\", \"user\", \"text\"]\n",
        "\n",
        "# Load the CSV file\n",
        "df = spark.read.csv(\"sentiment140.csv\", header=False, inferSchema=True)\n",
        "\n",
        "# Rename columns\n",
        "for idx, name in enumerate(columns):\n",
        "    df = df.withColumnRenamed(df.columns[idx], name)\n",
        "\n",
        "# Show a sample of the data\n",
        "df.show(5, truncate=False)\n"
      ],
      "metadata": {
        "colab": {
          "base_uri": "https://localhost:8080/"
        },
        "id": "eSkg6AmSg8d_",
        "outputId": "4798b112-d640-49df-9b6a-673d380f74eb"
      },
      "execution_count": 5,
      "outputs": [
        {
          "output_type": "stream",
          "name": "stdout",
          "text": [
            "+---------+----------+----------------------------+--------+---------------+-------------------------------------------------------------------------------------------------------------------+\n",
            "|sentiment|id        |date                        |query   |user           |text                                                                                                               |\n",
            "+---------+----------+----------------------------+--------+---------------+-------------------------------------------------------------------------------------------------------------------+\n",
            "|0        |1467810369|Mon Apr 06 22:19:45 PDT 2009|NO_QUERY|_TheSpecialOne_|@switchfoot http://twitpic.com/2y1zl - Awww, that's a bummer.  You shoulda got David Carr of Third Day to do it. ;D|\n",
            "|0        |1467810672|Mon Apr 06 22:19:49 PDT 2009|NO_QUERY|scotthamilton  |is upset that he can't update his Facebook by texting it... and might cry as a result  School today also. Blah!    |\n",
            "|0        |1467810917|Mon Apr 06 22:19:53 PDT 2009|NO_QUERY|mattycus       |@Kenichan I dived many times for the ball. Managed to save 50%  The rest go out of bounds                          |\n",
            "|0        |1467811184|Mon Apr 06 22:19:57 PDT 2009|NO_QUERY|ElleCTF        |my whole body feels itchy and like its on fire                                                                     |\n",
            "|0        |1467811193|Mon Apr 06 22:19:57 PDT 2009|NO_QUERY|Karoli         |@nationwideclass no, it's not behaving at all. i'm mad. why am i here? because I can't see you all over there.     |\n",
            "+---------+----------+----------------------------+--------+---------------+-------------------------------------------------------------------------------------------------------------------+\n",
            "only showing top 5 rows\n",
            "\n"
          ]
        }
      ]
    },
    {
      "cell_type": "code",
      "source": [
        "# Replace sentiment values: 0 -> Negative, 4 -> Positive\n",
        "df = df.withColumn(\"sentiment_label\", when(col(\"sentiment\") == 0, \"Negative\")\n",
        "                   .when(col(\"sentiment\") == 4, \"Positive\"))\n",
        "\n",
        "# Keep only relevant columns\n",
        "df = df.select(\"sentiment_label\", \"text\")\n",
        "\n",
        "# Show cleaned data\n",
        "df.show(5, truncate=False)\n"
      ],
      "metadata": {
        "colab": {
          "base_uri": "https://localhost:8080/"
        },
        "id": "hOFzPbNIhafg",
        "outputId": "aa1a7050-2d00-4d57-f05b-8d4fbde8b6cc"
      },
      "execution_count": 6,
      "outputs": [
        {
          "output_type": "stream",
          "name": "stdout",
          "text": [
            "+---------------+-------------------------------------------------------------------------------------------------------------------+\n",
            "|sentiment_label|text                                                                                                               |\n",
            "+---------------+-------------------------------------------------------------------------------------------------------------------+\n",
            "|Negative       |@switchfoot http://twitpic.com/2y1zl - Awww, that's a bummer.  You shoulda got David Carr of Third Day to do it. ;D|\n",
            "|Negative       |is upset that he can't update his Facebook by texting it... and might cry as a result  School today also. Blah!    |\n",
            "|Negative       |@Kenichan I dived many times for the ball. Managed to save 50%  The rest go out of bounds                          |\n",
            "|Negative       |my whole body feels itchy and like its on fire                                                                     |\n",
            "|Negative       |@nationwideclass no, it's not behaving at all. i'm mad. why am i here? because I can't see you all over there.     |\n",
            "+---------------+-------------------------------------------------------------------------------------------------------------------+\n",
            "only showing top 5 rows\n",
            "\n"
          ]
        }
      ]
    },
    {
      "cell_type": "code",
      "source": [
        "# Group by sentiment and count\n",
        "df.groupBy(\"sentiment_label\").count().show()\n"
      ],
      "metadata": {
        "colab": {
          "base_uri": "https://localhost:8080/"
        },
        "id": "2_rmcvXehi11",
        "outputId": "369d4885-ddc1-4377-c210-639a345af632"
      },
      "execution_count": 7,
      "outputs": [
        {
          "output_type": "stream",
          "name": "stdout",
          "text": [
            "+---------------+------+\n",
            "|sentiment_label| count|\n",
            "+---------------+------+\n",
            "|       Positive|800000|\n",
            "|       Negative|800000|\n",
            "+---------------+------+\n",
            "\n"
          ]
        }
      ]
    },
    {
      "cell_type": "code",
      "source": [],
      "metadata": {
        "id": "twjptfDKhlNI"
      },
      "execution_count": null,
      "outputs": []
    }
  ]
}